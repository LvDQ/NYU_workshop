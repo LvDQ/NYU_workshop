{
 "cells": [
  {
   "cell_type": "code",
   "execution_count": 1,
   "metadata": {},
   "outputs": [
    {
     "name": "stdout",
     "output_type": "stream",
     "text": [
      "Hello,World\n"
     ]
    }
   ],
   "source": [
    "print(\"Hello,World\")"
   ]
  },
  {
   "cell_type": "markdown",
   "metadata": {},
   "source": [
    "# Hello world of Python notebook"
   ]
  },
  {
   "cell_type": "markdown",
   "metadata": {},
   "source": [
    "## python function"
   ]
  },
  {
   "cell_type": "code",
   "execution_count": 5,
   "metadata": {},
   "outputs": [
    {
     "name": "stdout",
     "output_type": "stream",
     "text": [
      "0\n",
      "1\n",
      "2\n"
     ]
    }
   ],
   "source": [
    "for i in range(3):\n",
    "    print(i)"
   ]
  },
  {
   "cell_type": "code",
   "execution_count": 6,
   "metadata": {},
   "outputs": [
    {
     "name": "stdout",
     "output_type": "stream",
     "text": [
      "0 - Less than 10\n",
      "1 - Less than 10\n",
      "2 - Less than 10\n",
      "3 - Less than 10\n",
      "4 - Less than 10\n",
      "5 - Less than 10\n",
      "6 - Less than 10\n",
      "7 - Less than 10\n",
      "8 - Less than 10\n",
      "9 - Less than 10\n",
      "10 - 10 exactly\n",
      "11 - Greater than 10\n",
      "12 - Greater than 10\n",
      "13 - Greater than 10\n",
      "14 - Greater than 10\n",
      "15 - Greater than 10\n",
      "16 - Greater than 10\n",
      "17 - Greater than 10\n",
      "18 - Greater than 10\n",
      "19 - Greater than 10\n"
     ]
    }
   ],
   "source": [
    "for i in range(20):\n",
    "    if i < 10:\n",
    "        print(\"%d - Less than 10\" %(i))\n",
    "    elif i==10:\n",
    "        print(\"%d - 10 exactly\" %(i))\n",
    "    else:\n",
    "        print(\"%d - Greater than 10\" %(i))\n",
    "        "
   ]
  },
  {
   "cell_type": "code",
   "execution_count": 12,
   "metadata": {},
   "outputs": [
    {
     "name": "stdout",
     "output_type": "stream",
     "text": [
      "10 is half of 20\n",
      "10 is half of 20\n"
     ]
    }
   ],
   "source": [
    "i=10\n",
    "j=20\n",
    "print(\"%d is half of %d\" %(i,j))\n",
    "print(\"%d is half of 20\" %i)"
   ]
  },
  {
   "cell_type": "code",
   "execution_count": 13,
   "metadata": {},
   "outputs": [],
   "source": [
    "def hello():\n",
    "    print(\"Hello, World\")"
   ]
  },
  {
   "cell_type": "code",
   "execution_count": 14,
   "metadata": {},
   "outputs": [
    {
     "name": "stdout",
     "output_type": "stream",
     "text": [
      "Hello, World\n"
     ]
    }
   ],
   "source": [
    "hello()"
   ]
  },
  {
   "cell_type": "code",
   "execution_count": 15,
   "metadata": {},
   "outputs": [],
   "source": [
    "def hello(name):\n",
    "    print(\"Hello,%s\" %(name))"
   ]
  },
  {
   "cell_type": "code",
   "execution_count": 16,
   "metadata": {},
   "outputs": [
    {
     "name": "stdout",
     "output_type": "stream",
     "text": [
      "Hello,NYU student\n"
     ]
    }
   ],
   "source": [
    "hello(\"NYU student\")"
   ]
  },
  {
   "cell_type": "code",
   "execution_count": 17,
   "metadata": {},
   "outputs": [],
   "source": [
    "def hello(name=\"NYU student\"):\n",
    "    print(\"Hello,%s\" %(name))"
   ]
  },
  {
   "cell_type": "code",
   "execution_count": 18,
   "metadata": {},
   "outputs": [
    {
     "name": "stdout",
     "output_type": "stream",
     "text": [
      "Hello,NYU student\n",
      "Hello,NYU Tandon ECE student\n"
     ]
    }
   ],
   "source": [
    "hello()\n",
    "hello(\"NYU Tandon ECE student\")"
   ]
  },
  {
   "cell_type": "markdown",
   "metadata": {},
   "source": [
    "## Using list in Python"
   ]
  },
  {
   "cell_type": "code",
   "execution_count": 19,
   "metadata": {},
   "outputs": [
    {
     "name": "stdout",
     "output_type": "stream",
     "text": [
      "['bear', 'lion', 'monkey', 'Jiadong Unicorn']\n"
     ]
    }
   ],
   "source": [
    "animals=[]\n",
    "animals.append(\"bear\")\n",
    "animals.append(\"lion\")\n",
    "animals.append(\"monkey\")\n",
    "animals.append(\"Jiadong Unicorn\")\n",
    "\n",
    "print(animals)"
   ]
  },
  {
   "cell_type": "code",
   "execution_count": 20,
   "metadata": {},
   "outputs": [
    {
     "name": "stdout",
     "output_type": "stream",
     "text": [
      "Jiadong Unicorn\n"
     ]
    }
   ],
   "source": [
    "print(animals[3])"
   ]
  },
  {
   "cell_type": "code",
   "execution_count": 21,
   "metadata": {},
   "outputs": [
    {
     "name": "stdout",
     "output_type": "stream",
     "text": [
      "bear\n",
      "lion\n",
      "monkey\n",
      "Jiadong Unicorn\n"
     ]
    }
   ],
   "source": [
    "for animal in animals:\n",
    "    print(animal)"
   ]
  },
  {
   "cell_type": "code",
   "execution_count": 22,
   "metadata": {},
   "outputs": [
    {
     "name": "stdout",
     "output_type": "stream",
     "text": [
      "Jiadong Unicorn\n",
      "['bear', 'lion', 'monkey']\n"
     ]
    }
   ],
   "source": [
    "a = animals.pop()\n",
    "print(a)\n",
    "print(animals)"
   ]
  },
  {
   "cell_type": "code",
   "execution_count": 23,
   "metadata": {},
   "outputs": [
    {
     "name": "stdout",
     "output_type": "stream",
     "text": [
      "lion\n",
      "['bear', 'monkey']\n"
     ]
    }
   ],
   "source": [
    "a = animals.pop(1)\n",
    "print(a)\n",
    "print(animals)"
   ]
  },
  {
   "cell_type": "code",
   "execution_count": 24,
   "metadata": {},
   "outputs": [
    {
     "name": "stdout",
     "output_type": "stream",
     "text": [
      "['bear', 'monkey', 'bear']\n"
     ]
    },
    {
     "data": {
      "text/plain": [
       "2"
      ]
     },
     "execution_count": 24,
     "metadata": {},
     "output_type": "execute_result"
    }
   ],
   "source": [
    "animals.append(\"bear\")\n",
    "print(animals)\n",
    "animals.count(\"bear\")"
   ]
  },
  {
   "cell_type": "code",
   "execution_count": 25,
   "metadata": {},
   "outputs": [
    {
     "name": "stdout",
     "output_type": "stream",
     "text": [
      "['bear', 'bear', 'monkey']\n"
     ]
    }
   ],
   "source": [
    "animals.sort()\n",
    "print(animals)"
   ]
  },
  {
   "cell_type": "markdown",
   "metadata": {},
   "source": [
    "## List comprehension"
   ]
  },
  {
   "cell_type": "code",
   "execution_count": 33,
   "metadata": {},
   "outputs": [
    {
     "name": "stdout",
     "output_type": "stream",
     "text": [
      "['lion', 'monkey', 'Jiadong Unicorn']\n"
     ]
    }
   ],
   "source": [
    "animals = [\"bear\",\"lion\",\"monkey\",\"Jiadong Unicorn\", \"bear\"]\n",
    "\n",
    "new = [a for a in animals if a!=\"bear\"]\n",
    "print(new)"
   ]
  },
  {
   "cell_type": "code",
   "execution_count": 37,
   "metadata": {},
   "outputs": [
    {
     "name": "stdout",
     "output_type": "stream",
     "text": [
      "['LION', 'MONKEY', 'JIADONG UNICORN']\n",
      "['BEAR', 'LION', 'MONKEY', 'JIADONG UNICORN', 'BEAR']\n",
      "['LION', 'MONKEY', 'JIADONG UNICORN']\n"
     ]
    }
   ],
   "source": [
    "new1=[a.upper() for a in new]\n",
    "print(new1)\n",
    "new2=[a.upper() for a in animals]\n",
    "print(new2)\n",
    "new3=[a.upper() for a in animals if a!=\"bear\"]\n",
    "print(new3)"
   ]
  },
  {
   "cell_type": "markdown",
   "metadata": {},
   "source": [
    "## Using Python libraries"
   ]
  },
  {
   "cell_type": "code",
   "execution_count": 38,
   "metadata": {},
   "outputs": [],
   "source": [
    "import random"
   ]
  },
  {
   "cell_type": "code",
   "execution_count": 39,
   "metadata": {},
   "outputs": [
    {
     "data": {
      "text/plain": [
       "7"
      ]
     },
     "execution_count": 39,
     "metadata": {},
     "output_type": "execute_result"
    }
   ],
   "source": [
    "random.randint(0,10)"
   ]
  },
  {
   "cell_type": "code",
   "execution_count": 42,
   "metadata": {},
   "outputs": [
    {
     "name": "stdout",
     "output_type": "stream",
     "text": [
      "4\n",
      "8\n"
     ]
    }
   ],
   "source": [
    "import numpy as np\n",
    "print(np.power(2,2))\n",
    "print(np.power(2,3))"
   ]
  },
  {
   "cell_type": "code",
   "execution_count": 43,
   "metadata": {},
   "outputs": [
    {
     "data": {
      "text/plain": [
       "0"
      ]
     },
     "execution_count": 43,
     "metadata": {},
     "output_type": "execute_result"
    }
   ],
   "source": [
    "from random import *\n",
    "randint(0,10)"
   ]
  },
  {
   "cell_type": "markdown",
   "metadata": {},
   "source": [
    "this is not recommended due to the possibility of naming collision."
   ]
  },
  {
   "cell_type": "markdown",
   "metadata": {},
   "source": [
    "### Visualizing data with matplotlilb"
   ]
  },
  {
   "cell_type": "code",
   "execution_count": 45,
   "metadata": {},
   "outputs": [
    {
     "data": {
      "image/png": "[encoded data removed]",
      "text/plain": [
       "<matplotlib.figure.Figure at 0x7f713809b3c8>"
      ]
     },
     "metadata": {},
     "output_type": "display_data"
    }
   ],
   "source": [
    "import numpy as np\n",
    "import matplotlib.pyplot as plt\n",
    "\n",
    "X=np.linspace(-np.pi,np.pi,256,endpoint=True)\n",
    "C,S=np.cos(X),np.sin(X)\n",
    "\n",
    "plt.plot(X,C)\n",
    "plt.plot(X,S)\n",
    "\n",
    "plt.show()"
   ]
  },
  {
   "cell_type": "markdown",
   "metadata": {},
   "source": [
    "## Read in data from a CSV file"
   ]
  },
  {
   "cell_type": "code",
   "execution_count": 1,
   "metadata": {},
   "outputs": [
    {
     "name": "stdout",
     "output_type": "stream",
     "text": [
      "tripduration, starttime, stoptime, start station id, start station name, start station latitude, start station longitude, end station id, end station name, end station latitude, end station longitude, bikeid, usertype, birth year, gender\n",
      "1491, 3/1/2016 06:52:42, 3/1/2016 07:17:33, 72, W 52 St & 11 Ave, 40.76727216, -73.99392888, 427, Bus Slip & State St, 40.701907, -74.013942, 23914, Subscriber, 1982, 1\n",
      "1044, 3/1/2016 07:05:50, 3/1/2016 07:23:15, 72, W 52 St & 11 Ave, 40.76727216, -73.99392888, 254, W 11 St & 6 Ave, 40.73532427, -73.99800419, 23697, Subscriber, 1978, 1\n",
      "714, 3/1/2016 07:15:05, 3/1/2016 07:26:59, 72, W 52 St & 11 Ave, 40.76727216, -73.99392888, 493, W 45 St & 6 Ave, 40.7568001, -73.98291153, 21447, Subscriber, 1960, 2\n",
      "329, 3/1/2016 07:26:04, 3/1/2016 07:31:34, 72, W 52 St & 11 Ave, 40.76727216, -73.99392888, 478, 11 Ave & W 41 St, 40.76030096, -73.99884222, 22351, Subscriber, 1986, 1\n",
      "1871, 3/1/2016 07:31:30, 3/1/2016 08:02:41, 72, W 52 St & 11 Ave, 40.76727216, -73.99392888, 151, Cleveland Pl & Spring St, 40.722103786686034, -73.99724900722504, 20985, Subscriber, 1978, 1\n",
      "859, 3/1/2016 07:33:46, 3/1/2016 07:48:06, 72, W 52 St & 11 Ave, 40.76727216, -73.99392888, 520, W 52 St & 5 Ave, 40.75992262, -73.97648516, 15557, Subscriber, 1975, 1\n",
      "538, 3/1/2016 07:36:31, 3/1/2016 07:45:29, 72, W 52 St & 11 Ave, 40.76727216, -73.99392888, 533, Broadway & W 39 St, 40.75299641, -73.98721619, 22638, Subscriber, 1993, 1\n",
      "1255, 3/1/2016 07:38:14, 3/1/2016 07:59:10, 72, W 52 St & 11 Ave, 40.76727216, -73.99392888, 426, West St & Chambers St, 40.71754834, -74.01322069, 23864, Subscriber, 1988, 2\n",
      "1216, 3/1/2016 07:57:05, 3/1/2016 08:17:21, 72, W 52 St & 11 Ave, 40.76727216, -73.99392888, 325, E 19 St & 3 Ave, 40.73624527, -73.98473765, 17821, Subscriber, 1982, 1\n",
      "280, 3/1/2016 08:01:30, 3/1/2016 08:06:11, 72, W 52 St & 11 Ave, 40.76727216, -73.99392888, 500, Broadway & W 51 St, 40.76228826, -73.98336183, 21458, Subscriber, 1982, 1\n",
      "442, 3/1/2016 08:02:48, 3/1/2016 08:10:10, 72, W 52 St & 11 Ave, 40.76727216, -73.99392888, 173, Broadway & W 49 St, 40.76068327096592, -73.9845272898674, 17376, Subscriber, 1983, 1\n",
      "614, 3/1/2016 08:13:59, 3/1/2016 08:24:14, 72, W 52 St & 11 Ave, 40.76727216, -73.99392888, 522, E 51 St & Lexington Ave, 40.75714758, -73.97207836, 23644, Subscriber, 1977, 1\n",
      "1116, 3/1/2016 08:21:44, 3/1/2016 08:40:21, 72, W 52 St & 11 Ave, 40.76727216, -73.99392888, 358, Christopher St & Greenwich St, 40.73291553, -74.00711384, 20242, Subscriber, 1985, 1\n",
      "727, 3/1/2016 08:31:45, 3/1/2016 08:43:52, 72, W 52 St & 11 Ave, 40.76727216, -73.99392888, 225, W 14 St & The High Line, 40.74195138, -74.00803013, 17166, Subscriber, 1973, 1\n",
      "1355, 3/1/2016 08:36:10, 3/1/2016 08:58:46, 72, W 52 St & 11 Ave, 40.76727216, -73.99392888, 336, Sullivan St & Washington Sq, 40.73047747, -73.99906065, 20181, Subscriber, 1979, 1\n",
      "905, 3/1/2016 08:41:07, 3/1/2016 08:56:13, 72, W 52 St & 11 Ave, 40.76727216, -73.99392888, 463, 9 Ave & W 16 St, 40.74206539, -74.00443172, 21136, Subscriber, 1975, 1\n",
      "676, 3/1/2016 08:41:49, 3/1/2016 08:53:05, 72, W 52 St & 11 Ave, 40.76727216, -73.99392888, 490, 8 Ave & W 33 St, 40.751551, -73.993934, 16423, Subscriber, 1984, 1\n",
      "943, 3/1/2016 08:42:34, 3/1/2016 08:58:18, 72, W 52 St & 11 Ave, 40.76727216, -73.99392888, 485, W 37 St & 5 Ave, 40.75038009, -73.98338988, 19506, Subscriber, 1976, 2\n",
      "583, 3/1/2016 08:44:44, 3/1/2016 08:54:28, 72, W 52 St & 11 Ave, 40.76727216, -73.99392888, 522, E 51 St & Lexington Ave, 40.75714758, -73.97207836, 16032, Subscriber, 1982, 2\n",
      "578, 3/1/2016 08:47:17, 3/1/2016 08:56:55, 72, W 52 St & 11 Ave, 40.76727216, -73.99392888, 359, E 47 St & Park Ave, 40.75510267, -73.97498696, 16445, Subscriber, 1975, 1\n",
      "711, 3/1/2016 08:47:44, 3/1/2016 08:59:36, 72, W 52 St & 11 Ave, 40.76727216, -73.99392888, 465, Broadway & W 41 St, 40.75513557, -73.98658032, 22240, Subscriber, 1956, 1\n",
      "789, 3/1/2016 08:48:46, 3/1/2016 09:01:56, 72, W 52 St & 11 Ave, 40.76727216, -73.99392888, 267, Broadway & W 36 St, 40.75097711, -73.98765428, 23445, Subscriber, 1964, 1\n",
      "630, 3/1/2016 09:15:14, 3/1/2016 09:25:44, 72, W 52 St & 11 Ave, 40.76727216, -73.99392888, 520, W 52 St & 5 Ave, 40.75992262, -73.97648516, 15463, Subscriber, 1960, 1\n",
      "1324, 3/1/2016 09:21:56, 3/1/2016 09:44:00, 72, W 52 St & 11 Ave, 40.76727216, -73.99392888, 329, Greenwich St & N Moore St, 40.72043411, -74.01020609, 22674, Subscriber, 1992, 1\n",
      "1010, 3/1/2016 09:25:33, 3/1/2016 09:42:24, 72, W 52 St & 11 Ave, 40.76727216, -73.99392888, 127, Barrow St & Hudson St, 40.73172428, -74.00674436, 23269, Subscriber, 1988, 1\n",
      "1129, 3/1/2016 09:28:23, 3/1/2016 09:47:13, 72, W 52 St & 11 Ave, 40.76727216, -73.99392888, 500, Broadway & W 51 St, 40.76228826, -73.98336183, 23228, Subscriber, 1947, 1\n",
      "1324, 3/1/2016 09:49:17, 3/1/2016 10:11:22, 72, W 52 St & 11 Ave, 40.76727216, -73.99392888, 518, E 39 St & 2 Ave, 40.74780373, -73.9734419, 22164, Subscriber, 1962, 1\n",
      "455, 3/1/2016 09:50:27, 3/1/2016 09:58:03, 72, W 52 St & 11 Ave, 40.76727216, -73.99392888, 525, W 34 St & 11 Ave, 40.75594159, -74.0021163, 16131, Subscriber, 1974, 1\n",
      "385, 3/1/2016 09:55:30, 3/1/2016 10:01:56, 72, W 52 St & 11 Ave, 40.76727216, -73.99392888, 2021, W 45 St & 8 Ave, 40.75929124, -73.98859651, 22024, Subscriber, 1986, 2\n",
      "769, 3/1/2016 10:02:32, 3/1/2016 10:15:22, 72, W 52 St & 11 Ave, 40.76727216, -73.99392888, 519, Pershing Square North, 40.751873, -73.977706, 18432, Subscriber, 1981, 2\n",
      "636, 3/1/2016 10:02:39, 3/1/2016 10:13:16, 72, W 52 St & 11 Ave, 40.76727216, -73.99392888, 489, 10 Ave & W 28 St, 40.75066386, -74.00176802, 20091, Subscriber, 1987, 1\n",
      "339, 3/1/2016 10:06:43, 3/1/2016 10:12:23, 72, W 52 St & 11 Ave, 40.76727216, -73.99392888, 488, W 39 St & 9 Ave, 40.75645824, -73.99372222, 18731, Subscriber, 1986, 1\n",
      "1290, 3/1/2016 10:07:44, 3/1/2016 10:29:15, 72, W 52 St & 11 Ave, 40.76727216, -73.99392888, 517, Pershing Square South, 40.751581, -73.97791, 21040, Subscriber, 1972, 2\n",
      "1431, 3/1/2016 10:19:44, 3/1/2016 10:43:35, 72, W 52 St & 11 Ave, 40.76727216, -73.99392888, 358, Christopher St & Greenwich St, 40.73291553, -74.00711384, 22980, Subscriber, 1974, 1\n",
      "1442, 3/1/2016 10:39:50, 3/1/2016 11:03:53, 72, W 52 St & 11 Ave, 40.76727216, -73.99392888, 325, E 19 St & 3 Ave, 40.73624527, -73.98473765, 23032, Subscriber, 1983, 2\n",
      "922, 3/1/2016 11:37:30, 3/1/2016 11:52:53, 72, W 52 St & 11 Ave, 40.76727216, -73.99392888, 459, W 20 St & 11 Ave, 40.746745, -74.007756, 24273, Customer, , 0\n",
      "265, 3/1/2016 12:04:36, 3/1/2016 12:09:01, 72, W 52 St & 11 Ave, 40.76727216, -73.99392888, 450, W 49 St & 8 Ave, 40.76227205, -73.98788205, 20958, Subscriber, 1955, 1\n",
      "407, 3/1/2016 12:28:33, 3/1/2016 12:35:21, 72, W 52 St & 11 Ave, 40.76727216, -73.99392888, 525, W 34 St & 11 Ave, 40.75594159, -74.0021163, 20329, Subscriber, 1969, 1\n",
      "602, 3/1/2016 13:08:20, 3/1/2016 13:18:23, 72, W 52 St & 11 Ave, 40.76727216, -73.99392888, 499, Broadway & W 60 St, 40.76915505, -73.98191841, 22584, Subscriber, 1967, 1\n",
      "469, 3/1/2016 13:47:33, 3/1/2016 13:55:22, 72, W 52 St & 11 Ave, 40.76727216, -73.99392888, 525, W 34 St & 11 Ave, 40.75594159, -74.0021163, 23445, Subscriber, 1984, 1\n",
      "276, 3/1/2016 13:49:54, 3/1/2016 13:54:31, 72, W 52 St & 11 Ave, 40.76727216, -73.99392888, 514, 12 Ave & W 40 St, 40.76087502, -74.00277668, 15267, Subscriber, 1978, 1\n",
      "903, 3/1/2016 13:50:46, 3/1/2016 14:05:49, 72, W 52 St & 11 Ave, 40.76727216, -73.99392888, 490, 8 Ave & W 33 St, 40.751551, -73.993934, 16861, Subscriber, 1960, 2\n",
      "569, 3/1/2016 13:56:59, 3/1/2016 14:06:29, 72, W 52 St & 11 Ave, 40.76727216, -73.99392888, 447, 8 Ave & W 52 St, 40.76370739, -73.9851615, 17354, Subscriber, 1947, 1\n",
      "1829, 3/1/2016 14:08:30, 3/1/2016 14:39:00, 72, W 52 St & 11 Ave, 40.76727216, -73.99392888, 3145, E 84 St & Park Ave, 40.77862688, -73.95772073, 18761, Subscriber, 1962, 1\n",
      "984, 3/1/2016 14:12:23, 3/1/2016 14:28:48, 72, W 52 St & 11 Ave, 40.76727216, -73.99392888, 509, 9 Ave & W 22 St, 40.7454973, -74.00197139, 19877, Subscriber, 1967, 1\n",
      "1095, 3/1/2016 14:20:49, 3/1/2016 14:39:05, 72, W 52 St & 11 Ave, 40.76727216, -73.99392888, 3224, W 13 St & Hudson St, 40.73997354103409, -74.00513872504234, 22174, Subscriber, 1979, 1\n",
      "597, 3/1/2016 15:29:10, 3/1/2016 15:39:07, 72, W 52 St & 11 Ave, 40.76727216, -73.99392888, 529, W 42 St & 8 Ave, 40.7575699, -73.99098507, 16131, Subscriber, 1970, 1\n",
      "318, 3/1/2016 15:44:47, 3/1/2016 15:50:06, 72, W 52 St & 11 Ave, 40.76727216, -73.99392888, 450, W 49 St & 8 Ave, 40.76227205, -73.98788205, 20114, Subscriber, 1970, 1\n",
      "625, 3/1/2016 15:56:02, 3/1/2016 16:06:27, 72, W 52 St & 11 Ave, 40.76727216, -73.99392888, 72, W 52 St & 11 Ave, 40.76727216, -73.99392888, 18185, Subscriber, 1953, 2\n"
     ]
    }
   ],
   "source": [
    "import csv\n",
    "\n",
    "filename='smalldata.csv'\n",
    "with open(filename, 'r') as csvfile:\n",
    "    filereader = csv.reader(csvfile,delimiter=',')\n",
    "    for row in filereader:\n",
    "        print(', '.join(row))"
   ]
  },
  {
   "cell_type": "code",
   "execution_count": 2,
   "metadata": {},
   "outputs": [
    {
     "name": "stdout",
     "output_type": "stream",
     "text": [
      "starttime\n",
      "3/1/2016 06:52:42\n",
      "3/1/2016 07:05:50\n",
      "3/1/2016 07:15:05\n",
      "3/1/2016 07:26:04\n",
      "3/1/2016 07:31:30\n",
      "3/1/2016 07:33:46\n",
      "3/1/2016 07:36:31\n",
      "3/1/2016 07:38:14\n",
      "3/1/2016 07:57:05\n",
      "3/1/2016 08:01:30\n",
      "3/1/2016 08:02:48\n",
      "3/1/2016 08:13:59\n",
      "3/1/2016 08:21:44\n",
      "3/1/2016 08:31:45\n",
      "3/1/2016 08:36:10\n",
      "3/1/2016 08:41:07\n",
      "3/1/2016 08:41:49\n",
      "3/1/2016 08:42:34\n",
      "3/1/2016 08:44:44\n",
      "3/1/2016 08:47:17\n",
      "3/1/2016 08:47:44\n",
      "3/1/2016 08:48:46\n",
      "3/1/2016 09:15:14\n",
      "3/1/2016 09:21:56\n",
      "3/1/2016 09:25:33\n",
      "3/1/2016 09:28:23\n",
      "3/1/2016 09:49:17\n",
      "3/1/2016 09:50:27\n",
      "3/1/2016 09:55:30\n",
      "3/1/2016 10:02:32\n",
      "3/1/2016 10:02:39\n",
      "3/1/2016 10:06:43\n",
      "3/1/2016 10:07:44\n",
      "3/1/2016 10:19:44\n",
      "3/1/2016 10:39:50\n",
      "3/1/2016 11:37:30\n",
      "3/1/2016 12:04:36\n",
      "3/1/2016 12:28:33\n",
      "3/1/2016 13:08:20\n",
      "3/1/2016 13:47:33\n",
      "3/1/2016 13:49:54\n",
      "3/1/2016 13:50:46\n",
      "3/1/2016 13:56:59\n",
      "3/1/2016 14:08:30\n",
      "3/1/2016 14:12:23\n",
      "3/1/2016 14:20:49\n",
      "3/1/2016 15:29:10\n",
      "3/1/2016 15:44:47\n",
      "3/1/2016 15:56:02\n"
     ]
    }
   ],
   "source": [
    "filename='smalldata.csv'\n",
    "with open(filename, 'r') as csvfile:\n",
    "    filereader = csv.reader(csvfile,delimiter=',')\n",
    "    for row in filereader:\n",
    "        print(row[1])"
   ]
  },
  {
   "cell_type": "code",
   "execution_count": 4,
   "metadata": {},
   "outputs": [
    {
     "name": "stdout",
     "output_type": "stream",
     "text": [
      "[1491, 1044, 714, 329, 1871, 859, 538, 1255, 1216, 280, 442, 614, 1116, 727, 1355, 905, 676, 943, 583, 578, 711, 789, 630, 1324, 1010, 1129, 1324, 455, 385, 769, 636, 339, 1290, 1431, 1442, 922, 265, 407, 602, 469, 276, 903, 569, 1829, 984, 1095, 597, 318, 625]\n"
     ]
    }
   ],
   "source": [
    "durations = []\n",
    "filename = 'smalldata.csv'\n",
    "with open(filename,'r') as csvfile:\n",
    "    filereader = csv.reader(csvfile,delimiter=',')\n",
    "    header = next(filereader)\n",
    "    for row in filereader:\n",
    "        durations.append(int(row[0]))\n",
    "        \n",
    "print(durations)"
   ]
  },
  {
   "cell_type": "markdown",
   "metadata": {},
   "source": [
    "### using pandas"
   ]
  },
  {
   "cell_type": "code",
   "execution_count": 5,
   "metadata": {},
   "outputs": [
    {
     "name": "stdout",
     "output_type": "stream",
     "text": [
      "    tripduration          starttime           stoptime  start station id  \\\n",
      "0           1491  3/1/2016 06:52:42  3/1/2016 07:17:33                72   \n",
      "1           1044  3/1/2016 07:05:50  3/1/2016 07:23:15                72   \n",
      "2            714  3/1/2016 07:15:05  3/1/2016 07:26:59                72   \n",
      "3            329  3/1/2016 07:26:04  3/1/2016 07:31:34                72   \n",
      "4           1871  3/1/2016 07:31:30  3/1/2016 08:02:41                72   \n",
      "5            859  3/1/2016 07:33:46  3/1/2016 07:48:06                72   \n",
      "6            538  3/1/2016 07:36:31  3/1/2016 07:45:29                72   \n",
      "7           1255  3/1/2016 07:38:14  3/1/2016 07:59:10                72   \n",
      "8           1216  3/1/2016 07:57:05  3/1/2016 08:17:21                72   \n",
      "9            280  3/1/2016 08:01:30  3/1/2016 08:06:11                72   \n",
      "10           442  3/1/2016 08:02:48  3/1/2016 08:10:10                72   \n",
      "11           614  3/1/2016 08:13:59  3/1/2016 08:24:14                72   \n",
      "12          1116  3/1/2016 08:21:44  3/1/2016 08:40:21                72   \n",
      "13           727  3/1/2016 08:31:45  3/1/2016 08:43:52                72   \n",
      "14          1355  3/1/2016 08:36:10  3/1/2016 08:58:46                72   \n",
      "15           905  3/1/2016 08:41:07  3/1/2016 08:56:13                72   \n",
      "16           676  3/1/2016 08:41:49  3/1/2016 08:53:05                72   \n",
      "17           943  3/1/2016 08:42:34  3/1/2016 08:58:18                72   \n",
      "18           583  3/1/2016 08:44:44  3/1/2016 08:54:28                72   \n",
      "19           578  3/1/2016 08:47:17  3/1/2016 08:56:55                72   \n",
      "20           711  3/1/2016 08:47:44  3/1/2016 08:59:36                72   \n",
      "21           789  3/1/2016 08:48:46  3/1/2016 09:01:56                72   \n",
      "22           630  3/1/2016 09:15:14  3/1/2016 09:25:44                72   \n",
      "23          1324  3/1/2016 09:21:56  3/1/2016 09:44:00                72   \n",
      "24          1010  3/1/2016 09:25:33  3/1/2016 09:42:24                72   \n",
      "25          1129  3/1/2016 09:28:23  3/1/2016 09:47:13                72   \n",
      "26          1324  3/1/2016 09:49:17  3/1/2016 10:11:22                72   \n",
      "27           455  3/1/2016 09:50:27  3/1/2016 09:58:03                72   \n",
      "28           385  3/1/2016 09:55:30  3/1/2016 10:01:56                72   \n",
      "29           769  3/1/2016 10:02:32  3/1/2016 10:15:22                72   \n",
      "30           636  3/1/2016 10:02:39  3/1/2016 10:13:16                72   \n",
      "31           339  3/1/2016 10:06:43  3/1/2016 10:12:23                72   \n",
      "32          1290  3/1/2016 10:07:44  3/1/2016 10:29:15                72   \n",
      "33          1431  3/1/2016 10:19:44  3/1/2016 10:43:35                72   \n",
      "34          1442  3/1/2016 10:39:50  3/1/2016 11:03:53                72   \n",
      "35           922  3/1/2016 11:37:30  3/1/2016 11:52:53                72   \n",
      "36           265  3/1/2016 12:04:36  3/1/2016 12:09:01                72   \n",
      "37           407  3/1/2016 12:28:33  3/1/2016 12:35:21                72   \n",
      "38           602  3/1/2016 13:08:20  3/1/2016 13:18:23                72   \n",
      "39           469  3/1/2016 13:47:33  3/1/2016 13:55:22                72   \n",
      "40           276  3/1/2016 13:49:54  3/1/2016 13:54:31                72   \n",
      "41           903  3/1/2016 13:50:46  3/1/2016 14:05:49                72   \n",
      "42           569  3/1/2016 13:56:59  3/1/2016 14:06:29                72   \n",
      "43          1829  3/1/2016 14:08:30  3/1/2016 14:39:00                72   \n",
      "44           984  3/1/2016 14:12:23  3/1/2016 14:28:48                72   \n",
      "45          1095  3/1/2016 14:20:49  3/1/2016 14:39:05                72   \n",
      "46           597  3/1/2016 15:29:10  3/1/2016 15:39:07                72   \n",
      "47           318  3/1/2016 15:44:47  3/1/2016 15:50:06                72   \n",
      "48           625  3/1/2016 15:56:02  3/1/2016 16:06:27                72   \n",
      "\n",
      "   start station name  start station latitude  start station longitude  \\\n",
      "0    W 52 St & 11 Ave               40.767272               -73.993929   \n",
      "1    W 52 St & 11 Ave               40.767272               -73.993929   \n",
      "2    W 52 St & 11 Ave               40.767272               -73.993929   \n",
      "3    W 52 St & 11 Ave               40.767272               -73.993929   \n",
      "4    W 52 St & 11 Ave               40.767272               -73.993929   \n",
      "5    W 52 St & 11 Ave               40.767272               -73.993929   \n",
      "6    W 52 St & 11 Ave               40.767272               -73.993929   \n",
      "7    W 52 St & 11 Ave               40.767272               -73.993929   \n",
      "8    W 52 St & 11 Ave               40.767272               -73.993929   \n",
      "9    W 52 St & 11 Ave               40.767272               -73.993929   \n",
      "10   W 52 St & 11 Ave               40.767272               -73.993929   \n",
      "11   W 52 St & 11 Ave               40.767272               -73.993929   \n",
      "12   W 52 St & 11 Ave               40.767272               -73.993929   \n",
      "13   W 52 St & 11 Ave               40.767272               -73.993929   \n",
      "14   W 52 St & 11 Ave               40.767272               -73.993929   \n",
      "15   W 52 St & 11 Ave               40.767272               -73.993929   \n",
      "16   W 52 St & 11 Ave               40.767272               -73.993929   \n",
      "17   W 52 St & 11 Ave               40.767272               -73.993929   \n",
      "18   W 52 St & 11 Ave               40.767272               -73.993929   \n",
      "19   W 52 St & 11 Ave               40.767272               -73.993929   \n",
      "20   W 52 St & 11 Ave               40.767272               -73.993929   \n",
      "21   W 52 St & 11 Ave               40.767272               -73.993929   \n",
      "22   W 52 St & 11 Ave               40.767272               -73.993929   \n",
      "23   W 52 St & 11 Ave               40.767272               -73.993929   \n",
      "24   W 52 St & 11 Ave               40.767272               -73.993929   \n",
      "25   W 52 St & 11 Ave               40.767272               -73.993929   \n",
      "26   W 52 St & 11 Ave               40.767272               -73.993929   \n",
      "27   W 52 St & 11 Ave               40.767272               -73.993929   \n",
      "28   W 52 St & 11 Ave               40.767272               -73.993929   \n",
      "29   W 52 St & 11 Ave               40.767272               -73.993929   \n",
      "30   W 52 St & 11 Ave               40.767272               -73.993929   \n",
      "31   W 52 St & 11 Ave               40.767272               -73.993929   \n",
      "32   W 52 St & 11 Ave               40.767272               -73.993929   \n",
      "33   W 52 St & 11 Ave               40.767272               -73.993929   \n",
      "34   W 52 St & 11 Ave               40.767272               -73.993929   \n",
      "35   W 52 St & 11 Ave               40.767272               -73.993929   \n",
      "36   W 52 St & 11 Ave               40.767272               -73.993929   \n",
      "37   W 52 St & 11 Ave               40.767272               -73.993929   \n",
      "38   W 52 St & 11 Ave               40.767272               -73.993929   \n",
      "39   W 52 St & 11 Ave               40.767272               -73.993929   \n",
      "40   W 52 St & 11 Ave               40.767272               -73.993929   \n",
      "41   W 52 St & 11 Ave               40.767272               -73.993929   \n",
      "42   W 52 St & 11 Ave               40.767272               -73.993929   \n",
      "43   W 52 St & 11 Ave               40.767272               -73.993929   \n",
      "44   W 52 St & 11 Ave               40.767272               -73.993929   \n",
      "45   W 52 St & 11 Ave               40.767272               -73.993929   \n",
      "46   W 52 St & 11 Ave               40.767272               -73.993929   \n",
      "47   W 52 St & 11 Ave               40.767272               -73.993929   \n",
      "48   W 52 St & 11 Ave               40.767272               -73.993929   \n",
      "\n",
      "    end station id               end station name  end station latitude  \\\n",
      "0              427            Bus Slip & State St             40.701907   \n",
      "1              254                W 11 St & 6 Ave             40.735324   \n",
      "2              493                W 45 St & 6 Ave             40.756800   \n",
      "3              478               11 Ave & W 41 St             40.760301   \n",
      "4              151       Cleveland Pl & Spring St             40.722104   \n",
      "5              520                W 52 St & 5 Ave             40.759923   \n",
      "6              533             Broadway & W 39 St             40.752996   \n",
      "7              426          West St & Chambers St             40.717548   \n",
      "8              325                E 19 St & 3 Ave             40.736245   \n",
      "9              500             Broadway & W 51 St             40.762288   \n",
      "10             173             Broadway & W 49 St             40.760683   \n",
      "11             522        E 51 St & Lexington Ave             40.757148   \n",
      "12             358  Christopher St & Greenwich St             40.732916   \n",
      "13             225        W 14 St & The High Line             40.741951   \n",
      "14             336    Sullivan St & Washington Sq             40.730477   \n",
      "15             463                9 Ave & W 16 St             40.742065   \n",
      "16             490                8 Ave & W 33 St             40.751551   \n",
      "17             485                W 37 St & 5 Ave             40.750380   \n",
      "18             522        E 51 St & Lexington Ave             40.757148   \n",
      "19             359             E 47 St & Park Ave             40.755103   \n",
      "20             465             Broadway & W 41 St             40.755136   \n",
      "21             267             Broadway & W 36 St             40.750977   \n",
      "22             520                W 52 St & 5 Ave             40.759923   \n",
      "23             329      Greenwich St & N Moore St             40.720434   \n",
      "24             127          Barrow St & Hudson St             40.731724   \n",
      "25             500             Broadway & W 51 St             40.762288   \n",
      "26             518                E 39 St & 2 Ave             40.747804   \n",
      "27             525               W 34 St & 11 Ave             40.755942   \n",
      "28            2021                W 45 St & 8 Ave             40.759291   \n",
      "29             519          Pershing Square North             40.751873   \n",
      "30             489               10 Ave & W 28 St             40.750664   \n",
      "31             488                W 39 St & 9 Ave             40.756458   \n",
      "32             517          Pershing Square South             40.751581   \n",
      "33             358  Christopher St & Greenwich St             40.732916   \n",
      "34             325                E 19 St & 3 Ave             40.736245   \n",
      "35             459               W 20 St & 11 Ave             40.746745   \n",
      "36             450                W 49 St & 8 Ave             40.762272   \n",
      "37             525               W 34 St & 11 Ave             40.755942   \n",
      "38             499             Broadway & W 60 St             40.769155   \n",
      "39             525               W 34 St & 11 Ave             40.755942   \n",
      "40             514               12 Ave & W 40 St             40.760875   \n",
      "41             490                8 Ave & W 33 St             40.751551   \n",
      "42             447                8 Ave & W 52 St             40.763707   \n",
      "43            3145             E 84 St & Park Ave             40.778627   \n",
      "44             509                9 Ave & W 22 St             40.745497   \n",
      "45            3224            W 13 St & Hudson St             40.739974   \n",
      "46             529                W 42 St & 8 Ave             40.757570   \n",
      "47             450                W 49 St & 8 Ave             40.762272   \n",
      "48              72               W 52 St & 11 Ave             40.767272   \n",
      "\n",
      "    end station longitude  bikeid    usertype  birth year  gender  \n",
      "0              -74.013942   23914  Subscriber      1982.0       1  \n",
      "1              -73.998004   23697  Subscriber      1978.0       1  \n",
      "2              -73.982912   21447  Subscriber      1960.0       2  \n",
      "3              -73.998842   22351  Subscriber      1986.0       1  \n",
      "4              -73.997249   20985  Subscriber      1978.0       1  \n",
      "5              -73.976485   15557  Subscriber      1975.0       1  \n",
      "6              -73.987216   22638  Subscriber      1993.0       1  \n",
      "7              -74.013221   23864  Subscriber      1988.0       2  \n",
      "8              -73.984738   17821  Subscriber      1982.0       1  \n",
      "9              -73.983362   21458  Subscriber      1982.0       1  \n",
      "10             -73.984527   17376  Subscriber      1983.0       1  \n",
      "11             -73.972078   23644  Subscriber      1977.0       1  \n",
      "12             -74.007114   20242  Subscriber      1985.0       1  \n",
      "13             -74.008030   17166  Subscriber      1973.0       1  \n",
      "14             -73.999061   20181  Subscriber      1979.0       1  \n",
      "15             -74.004432   21136  Subscriber      1975.0       1  \n",
      "16             -73.993934   16423  Subscriber      1984.0       1  \n",
      "17             -73.983390   19506  Subscriber      1976.0       2  \n",
      "18             -73.972078   16032  Subscriber      1982.0       2  \n",
      "19             -73.974987   16445  Subscriber      1975.0       1  \n",
      "20             -73.986580   22240  Subscriber      1956.0       1  \n",
      "21             -73.987654   23445  Subscriber      1964.0       1  \n",
      "22             -73.976485   15463  Subscriber      1960.0       1  \n",
      "23             -74.010206   22674  Subscriber      1992.0       1  \n",
      "24             -74.006744   23269  Subscriber      1988.0       1  \n",
      "25             -73.983362   23228  Subscriber      1947.0       1  \n",
      "26             -73.973442   22164  Subscriber      1962.0       1  \n",
      "27             -74.002116   16131  Subscriber      1974.0       1  \n",
      "28             -73.988597   22024  Subscriber      1986.0       2  \n",
      "29             -73.977706   18432  Subscriber      1981.0       2  \n",
      "30             -74.001768   20091  Subscriber      1987.0       1  \n",
      "31             -73.993722   18731  Subscriber      1986.0       1  \n",
      "32             -73.977910   21040  Subscriber      1972.0       2  \n",
      "33             -74.007114   22980  Subscriber      1974.0       1  \n",
      "34             -73.984738   23032  Subscriber      1983.0       2  \n",
      "35             -74.007756   24273    Customer         NaN       0  \n",
      "36             -73.987882   20958  Subscriber      1955.0       1  \n",
      "37             -74.002116   20329  Subscriber      1969.0       1  \n",
      "38             -73.981918   22584  Subscriber      1967.0       1  \n",
      "39             -74.002116   23445  Subscriber      1984.0       1  \n",
      "40             -74.002777   15267  Subscriber      1978.0       1  \n",
      "41             -73.993934   16861  Subscriber      1960.0       2  \n",
      "42             -73.985162   17354  Subscriber      1947.0       1  \n",
      "43             -73.957721   18761  Subscriber      1962.0       1  \n",
      "44             -74.001971   19877  Subscriber      1967.0       1  \n",
      "45             -74.005139   22174  Subscriber      1979.0       1  \n",
      "46             -73.990985   16131  Subscriber      1970.0       1  \n",
      "47             -73.987882   20114  Subscriber      1970.0       1  \n",
      "48             -73.993929   18185  Subscriber      1953.0       2  \n"
     ]
    }
   ],
   "source": [
    "import pandas as pd\n",
    "\n",
    "filename='smalldata.csv'\n",
    "df=pd.read_csv(filename,sep=',')\n",
    "\n",
    "print(df)"
   ]
  },
  {
   "cell_type": "code",
   "execution_count": 6,
   "metadata": {},
   "outputs": [
    {
     "data": {
      "text/plain": [
       "Index(['tripduration', 'starttime', 'stoptime', 'start station id',\n",
       "       'start station name', 'start station latitude',\n",
       "       'start station longitude', 'end station id', 'end station name',\n",
       "       'end station latitude', 'end station longitude', 'bikeid', 'usertype',\n",
       "       'birth year', 'gender'],\n",
       "      dtype='object')"
      ]
     },
     "execution_count": 6,
     "metadata": {},
     "output_type": "execute_result"
    }
   ],
   "source": [
    "df.columns"
   ]
  },
  {
   "cell_type": "code",
   "execution_count": 7,
   "metadata": {},
   "outputs": [
    {
     "data": {
      "text/html": [
       "<div>\n",
       "<style>\n",
       "    .dataframe thead tr:only-child th {\n",
       "        text-align: right;\n",
       "    }\n",
       "\n",
       "    .dataframe thead th {\n",
       "        text-align: left;\n",
       "    }\n",
       "\n",
       "    .dataframe tbody tr th {\n",
       "        vertical-align: top;\n",
       "    }\n",
       "</style>\n",
       "<table border=\"1\" class=\"dataframe\">\n",
       "  <thead>\n",
       "    <tr style=\"text-align: right;\">\n",
       "      <th></th>\n",
       "      <th>tripduration</th>\n",
       "      <th>starttime</th>\n",
       "      <th>stoptime</th>\n",
       "      <th>start station id</th>\n",
       "      <th>start station name</th>\n",
       "      <th>start station latitude</th>\n",
       "      <th>start station longitude</th>\n",
       "      <th>end station id</th>\n",
       "      <th>end station name</th>\n",
       "      <th>end station latitude</th>\n",
       "      <th>end station longitude</th>\n",
       "      <th>bikeid</th>\n",
       "      <th>usertype</th>\n",
       "      <th>birth year</th>\n",
       "      <th>gender</th>\n",
       "    </tr>\n",
       "  </thead>\n",
       "  <tbody>\n",
       "    <tr>\n",
       "      <th>0</th>\n",
       "      <td>1491</td>\n",
       "      <td>3/1/2016 06:52:42</td>\n",
       "      <td>3/1/2016 07:17:33</td>\n",
       "      <td>72</td>\n",
       "      <td>W 52 St &amp; 11 Ave</td>\n",
       "      <td>40.767272</td>\n",
       "      <td>-73.993929</td>\n",
       "      <td>427</td>\n",
       "      <td>Bus Slip &amp; State St</td>\n",
       "      <td>40.701907</td>\n",
       "      <td>-74.013942</td>\n",
       "      <td>23914</td>\n",
       "      <td>Subscriber</td>\n",
       "      <td>1982.0</td>\n",
       "      <td>1</td>\n",
       "    </tr>\n",
       "    <tr>\n",
       "      <th>1</th>\n",
       "      <td>1044</td>\n",
       "      <td>3/1/2016 07:05:50</td>\n",
       "      <td>3/1/2016 07:23:15</td>\n",
       "      <td>72</td>\n",
       "      <td>W 52 St &amp; 11 Ave</td>\n",
       "      <td>40.767272</td>\n",
       "      <td>-73.993929</td>\n",
       "      <td>254</td>\n",
       "      <td>W 11 St &amp; 6 Ave</td>\n",
       "      <td>40.735324</td>\n",
       "      <td>-73.998004</td>\n",
       "      <td>23697</td>\n",
       "      <td>Subscriber</td>\n",
       "      <td>1978.0</td>\n",
       "      <td>1</td>\n",
       "    </tr>\n",
       "    <tr>\n",
       "      <th>2</th>\n",
       "      <td>714</td>\n",
       "      <td>3/1/2016 07:15:05</td>\n",
       "      <td>3/1/2016 07:26:59</td>\n",
       "      <td>72</td>\n",
       "      <td>W 52 St &amp; 11 Ave</td>\n",
       "      <td>40.767272</td>\n",
       "      <td>-73.993929</td>\n",
       "      <td>493</td>\n",
       "      <td>W 45 St &amp; 6 Ave</td>\n",
       "      <td>40.756800</td>\n",
       "      <td>-73.982912</td>\n",
       "      <td>21447</td>\n",
       "      <td>Subscriber</td>\n",
       "      <td>1960.0</td>\n",
       "      <td>2</td>\n",
       "    </tr>\n",
       "    <tr>\n",
       "      <th>3</th>\n",
       "      <td>329</td>\n",
       "      <td>3/1/2016 07:26:04</td>\n",
       "      <td>3/1/2016 07:31:34</td>\n",
       "      <td>72</td>\n",
       "      <td>W 52 St &amp; 11 Ave</td>\n",
       "      <td>40.767272</td>\n",
       "      <td>-73.993929</td>\n",
       "      <td>478</td>\n",
       "      <td>11 Ave &amp; W 41 St</td>\n",
       "      <td>40.760301</td>\n",
       "      <td>-73.998842</td>\n",
       "      <td>22351</td>\n",
       "      <td>Subscriber</td>\n",
       "      <td>1986.0</td>\n",
       "      <td>1</td>\n",
       "    </tr>\n",
       "    <tr>\n",
       "      <th>4</th>\n",
       "      <td>1871</td>\n",
       "      <td>3/1/2016 07:31:30</td>\n",
       "      <td>3/1/2016 08:02:41</td>\n",
       "      <td>72</td>\n",
       "      <td>W 52 St &amp; 11 Ave</td>\n",
       "      <td>40.767272</td>\n",
       "      <td>-73.993929</td>\n",
       "      <td>151</td>\n",
       "      <td>Cleveland Pl &amp; Spring St</td>\n",
       "      <td>40.722104</td>\n",
       "      <td>-73.997249</td>\n",
       "      <td>20985</td>\n",
       "      <td>Subscriber</td>\n",
       "      <td>1978.0</td>\n",
       "      <td>1</td>\n",
       "    </tr>\n",
       "  </tbody>\n",
       "</table>\n",
       "</div>"
      ],
      "text/plain": [
       "   tripduration          starttime           stoptime  start station id  \\\n",
       "0          1491  3/1/2016 06:52:42  3/1/2016 07:17:33                72   \n",
       "1          1044  3/1/2016 07:05:50  3/1/2016 07:23:15                72   \n",
       "2           714  3/1/2016 07:15:05  3/1/2016 07:26:59                72   \n",
       "3           329  3/1/2016 07:26:04  3/1/2016 07:31:34                72   \n",
       "4          1871  3/1/2016 07:31:30  3/1/2016 08:02:41                72   \n",
       "\n",
       "  start station name  start station latitude  start station longitude  \\\n",
       "0   W 52 St & 11 Ave               40.767272               -73.993929   \n",
       "1   W 52 St & 11 Ave               40.767272               -73.993929   \n",
       "2   W 52 St & 11 Ave               40.767272               -73.993929   \n",
       "3   W 52 St & 11 Ave               40.767272               -73.993929   \n",
       "4   W 52 St & 11 Ave               40.767272               -73.993929   \n",
       "\n",
       "   end station id          end station name  end station latitude  \\\n",
       "0             427       Bus Slip & State St             40.701907   \n",
       "1             254           W 11 St & 6 Ave             40.735324   \n",
       "2             493           W 45 St & 6 Ave             40.756800   \n",
       "3             478          11 Ave & W 41 St             40.760301   \n",
       "4             151  Cleveland Pl & Spring St             40.722104   \n",
       "\n",
       "   end station longitude  bikeid    usertype  birth year  gender  \n",
       "0             -74.013942   23914  Subscriber      1982.0       1  \n",
       "1             -73.998004   23697  Subscriber      1978.0       1  \n",
       "2             -73.982912   21447  Subscriber      1960.0       2  \n",
       "3             -73.998842   22351  Subscriber      1986.0       1  \n",
       "4             -73.997249   20985  Subscriber      1978.0       1  "
      ]
     },
     "execution_count": 7,
     "metadata": {},
     "output_type": "execute_result"
    }
   ],
   "source": [
    "df.head()"
   ]
  },
  {
   "cell_type": "code",
   "execution_count": 8,
   "metadata": {},
   "outputs": [
    {
     "data": {
      "text/html": [
       "<div>\n",
       "<style>\n",
       "    .dataframe thead tr:only-child th {\n",
       "        text-align: right;\n",
       "    }\n",
       "\n",
       "    .dataframe thead th {\n",
       "        text-align: left;\n",
       "    }\n",
       "\n",
       "    .dataframe tbody tr th {\n",
       "        vertical-align: top;\n",
       "    }\n",
       "</style>\n",
       "<table border=\"1\" class=\"dataframe\">\n",
       "  <thead>\n",
       "    <tr style=\"text-align: right;\">\n",
       "      <th></th>\n",
       "      <th>tripduration</th>\n",
       "      <th>starttime</th>\n",
       "      <th>stoptime</th>\n",
       "      <th>start station id</th>\n",
       "      <th>start station name</th>\n",
       "      <th>start station latitude</th>\n",
       "      <th>start station longitude</th>\n",
       "      <th>end station id</th>\n",
       "      <th>end station name</th>\n",
       "      <th>end station latitude</th>\n",
       "      <th>end station longitude</th>\n",
       "      <th>bikeid</th>\n",
       "      <th>usertype</th>\n",
       "      <th>birth year</th>\n",
       "      <th>gender</th>\n",
       "    </tr>\n",
       "  </thead>\n",
       "  <tbody>\n",
       "    <tr>\n",
       "      <th>44</th>\n",
       "      <td>984</td>\n",
       "      <td>3/1/2016 14:12:23</td>\n",
       "      <td>3/1/2016 14:28:48</td>\n",
       "      <td>72</td>\n",
       "      <td>W 52 St &amp; 11 Ave</td>\n",
       "      <td>40.767272</td>\n",
       "      <td>-73.993929</td>\n",
       "      <td>509</td>\n",
       "      <td>9 Ave &amp; W 22 St</td>\n",
       "      <td>40.745497</td>\n",
       "      <td>-74.001971</td>\n",
       "      <td>19877</td>\n",
       "      <td>Subscriber</td>\n",
       "      <td>1967.0</td>\n",
       "      <td>1</td>\n",
       "    </tr>\n",
       "    <tr>\n",
       "      <th>45</th>\n",
       "      <td>1095</td>\n",
       "      <td>3/1/2016 14:20:49</td>\n",
       "      <td>3/1/2016 14:39:05</td>\n",
       "      <td>72</td>\n",
       "      <td>W 52 St &amp; 11 Ave</td>\n",
       "      <td>40.767272</td>\n",
       "      <td>-73.993929</td>\n",
       "      <td>3224</td>\n",
       "      <td>W 13 St &amp; Hudson St</td>\n",
       "      <td>40.739974</td>\n",
       "      <td>-74.005139</td>\n",
       "      <td>22174</td>\n",
       "      <td>Subscriber</td>\n",
       "      <td>1979.0</td>\n",
       "      <td>1</td>\n",
       "    </tr>\n",
       "    <tr>\n",
       "      <th>46</th>\n",
       "      <td>597</td>\n",
       "      <td>3/1/2016 15:29:10</td>\n",
       "      <td>3/1/2016 15:39:07</td>\n",
       "      <td>72</td>\n",
       "      <td>W 52 St &amp; 11 Ave</td>\n",
       "      <td>40.767272</td>\n",
       "      <td>-73.993929</td>\n",
       "      <td>529</td>\n",
       "      <td>W 42 St &amp; 8 Ave</td>\n",
       "      <td>40.757570</td>\n",
       "      <td>-73.990985</td>\n",
       "      <td>16131</td>\n",
       "      <td>Subscriber</td>\n",
       "      <td>1970.0</td>\n",
       "      <td>1</td>\n",
       "    </tr>\n",
       "    <tr>\n",
       "      <th>47</th>\n",
       "      <td>318</td>\n",
       "      <td>3/1/2016 15:44:47</td>\n",
       "      <td>3/1/2016 15:50:06</td>\n",
       "      <td>72</td>\n",
       "      <td>W 52 St &amp; 11 Ave</td>\n",
       "      <td>40.767272</td>\n",
       "      <td>-73.993929</td>\n",
       "      <td>450</td>\n",
       "      <td>W 49 St &amp; 8 Ave</td>\n",
       "      <td>40.762272</td>\n",
       "      <td>-73.987882</td>\n",
       "      <td>20114</td>\n",
       "      <td>Subscriber</td>\n",
       "      <td>1970.0</td>\n",
       "      <td>1</td>\n",
       "    </tr>\n",
       "    <tr>\n",
       "      <th>48</th>\n",
       "      <td>625</td>\n",
       "      <td>3/1/2016 15:56:02</td>\n",
       "      <td>3/1/2016 16:06:27</td>\n",
       "      <td>72</td>\n",
       "      <td>W 52 St &amp; 11 Ave</td>\n",
       "      <td>40.767272</td>\n",
       "      <td>-73.993929</td>\n",
       "      <td>72</td>\n",
       "      <td>W 52 St &amp; 11 Ave</td>\n",
       "      <td>40.767272</td>\n",
       "      <td>-73.993929</td>\n",
       "      <td>18185</td>\n",
       "      <td>Subscriber</td>\n",
       "      <td>1953.0</td>\n",
       "      <td>2</td>\n",
       "    </tr>\n",
       "  </tbody>\n",
       "</table>\n",
       "</div>"
      ],
      "text/plain": [
       "    tripduration          starttime           stoptime  start station id  \\\n",
       "44           984  3/1/2016 14:12:23  3/1/2016 14:28:48                72   \n",
       "45          1095  3/1/2016 14:20:49  3/1/2016 14:39:05                72   \n",
       "46           597  3/1/2016 15:29:10  3/1/2016 15:39:07                72   \n",
       "47           318  3/1/2016 15:44:47  3/1/2016 15:50:06                72   \n",
       "48           625  3/1/2016 15:56:02  3/1/2016 16:06:27                72   \n",
       "\n",
       "   start station name  start station latitude  start station longitude  \\\n",
       "44   W 52 St & 11 Ave               40.767272               -73.993929   \n",
       "45   W 52 St & 11 Ave               40.767272               -73.993929   \n",
       "46   W 52 St & 11 Ave               40.767272               -73.993929   \n",
       "47   W 52 St & 11 Ave               40.767272               -73.993929   \n",
       "48   W 52 St & 11 Ave               40.767272               -73.993929   \n",
       "\n",
       "    end station id     end station name  end station latitude  \\\n",
       "44             509      9 Ave & W 22 St             40.745497   \n",
       "45            3224  W 13 St & Hudson St             40.739974   \n",
       "46             529      W 42 St & 8 Ave             40.757570   \n",
       "47             450      W 49 St & 8 Ave             40.762272   \n",
       "48              72     W 52 St & 11 Ave             40.767272   \n",
       "\n",
       "    end station longitude  bikeid    usertype  birth year  gender  \n",
       "44             -74.001971   19877  Subscriber      1967.0       1  \n",
       "45             -74.005139   22174  Subscriber      1979.0       1  \n",
       "46             -73.990985   16131  Subscriber      1970.0       1  \n",
       "47             -73.987882   20114  Subscriber      1970.0       1  \n",
       "48             -73.993929   18185  Subscriber      1953.0       2  "
      ]
     },
     "execution_count": 8,
     "metadata": {},
     "output_type": "execute_result"
    }
   ],
   "source": [
    "df.tail()"
   ]
  },
  {
   "cell_type": "code",
   "execution_count": 9,
   "metadata": {},
   "outputs": [
    {
     "data": {
      "text/html": [
       "<div>\n",
       "<style>\n",
       "    .dataframe thead tr:only-child th {\n",
       "        text-align: right;\n",
       "    }\n",
       "\n",
       "    .dataframe thead th {\n",
       "        text-align: left;\n",
       "    }\n",
       "\n",
       "    .dataframe tbody tr th {\n",
       "        vertical-align: top;\n",
       "    }\n",
       "</style>\n",
       "<table border=\"1\" class=\"dataframe\">\n",
       "  <thead>\n",
       "    <tr style=\"text-align: right;\">\n",
       "      <th></th>\n",
       "      <th>tripduration</th>\n",
       "      <th>starttime</th>\n",
       "      <th>stoptime</th>\n",
       "      <th>start station id</th>\n",
       "      <th>start station name</th>\n",
       "      <th>start station latitude</th>\n",
       "      <th>start station longitude</th>\n",
       "      <th>end station id</th>\n",
       "      <th>end station name</th>\n",
       "      <th>end station latitude</th>\n",
       "      <th>end station longitude</th>\n",
       "      <th>bikeid</th>\n",
       "      <th>usertype</th>\n",
       "      <th>birth year</th>\n",
       "      <th>gender</th>\n",
       "    </tr>\n",
       "  </thead>\n",
       "  <tbody>\n",
       "    <tr>\n",
       "      <th>46</th>\n",
       "      <td>597</td>\n",
       "      <td>3/1/2016 15:29:10</td>\n",
       "      <td>3/1/2016 15:39:07</td>\n",
       "      <td>72</td>\n",
       "      <td>W 52 St &amp; 11 Ave</td>\n",
       "      <td>40.767272</td>\n",
       "      <td>-73.993929</td>\n",
       "      <td>529</td>\n",
       "      <td>W 42 St &amp; 8 Ave</td>\n",
       "      <td>40.757570</td>\n",
       "      <td>-73.990985</td>\n",
       "      <td>16131</td>\n",
       "      <td>Subscriber</td>\n",
       "      <td>1970.0</td>\n",
       "      <td>1</td>\n",
       "    </tr>\n",
       "    <tr>\n",
       "      <th>47</th>\n",
       "      <td>318</td>\n",
       "      <td>3/1/2016 15:44:47</td>\n",
       "      <td>3/1/2016 15:50:06</td>\n",
       "      <td>72</td>\n",
       "      <td>W 52 St &amp; 11 Ave</td>\n",
       "      <td>40.767272</td>\n",
       "      <td>-73.993929</td>\n",
       "      <td>450</td>\n",
       "      <td>W 49 St &amp; 8 Ave</td>\n",
       "      <td>40.762272</td>\n",
       "      <td>-73.987882</td>\n",
       "      <td>20114</td>\n",
       "      <td>Subscriber</td>\n",
       "      <td>1970.0</td>\n",
       "      <td>1</td>\n",
       "    </tr>\n",
       "    <tr>\n",
       "      <th>48</th>\n",
       "      <td>625</td>\n",
       "      <td>3/1/2016 15:56:02</td>\n",
       "      <td>3/1/2016 16:06:27</td>\n",
       "      <td>72</td>\n",
       "      <td>W 52 St &amp; 11 Ave</td>\n",
       "      <td>40.767272</td>\n",
       "      <td>-73.993929</td>\n",
       "      <td>72</td>\n",
       "      <td>W 52 St &amp; 11 Ave</td>\n",
       "      <td>40.767272</td>\n",
       "      <td>-73.993929</td>\n",
       "      <td>18185</td>\n",
       "      <td>Subscriber</td>\n",
       "      <td>1953.0</td>\n",
       "      <td>2</td>\n",
       "    </tr>\n",
       "  </tbody>\n",
       "</table>\n",
       "</div>"
      ],
      "text/plain": [
       "    tripduration          starttime           stoptime  start station id  \\\n",
       "46           597  3/1/2016 15:29:10  3/1/2016 15:39:07                72   \n",
       "47           318  3/1/2016 15:44:47  3/1/2016 15:50:06                72   \n",
       "48           625  3/1/2016 15:56:02  3/1/2016 16:06:27                72   \n",
       "\n",
       "   start station name  start station latitude  start station longitude  \\\n",
       "46   W 52 St & 11 Ave               40.767272               -73.993929   \n",
       "47   W 52 St & 11 Ave               40.767272               -73.993929   \n",
       "48   W 52 St & 11 Ave               40.767272               -73.993929   \n",
       "\n",
       "    end station id  end station name  end station latitude  \\\n",
       "46             529   W 42 St & 8 Ave             40.757570   \n",
       "47             450   W 49 St & 8 Ave             40.762272   \n",
       "48              72  W 52 St & 11 Ave             40.767272   \n",
       "\n",
       "    end station longitude  bikeid    usertype  birth year  gender  \n",
       "46             -73.990985   16131  Subscriber      1970.0       1  \n",
       "47             -73.987882   20114  Subscriber      1970.0       1  \n",
       "48             -73.993929   18185  Subscriber      1953.0       2  "
      ]
     },
     "execution_count": 9,
     "metadata": {},
     "output_type": "execute_result"
    }
   ],
   "source": [
    "df.tail(3)"
   ]
  },
  {
   "cell_type": "code",
   "execution_count": 10,
   "metadata": {},
   "outputs": [
    {
     "data": {
      "text/html": [
       "<div>\n",
       "<style>\n",
       "    .dataframe thead tr:only-child th {\n",
       "        text-align: right;\n",
       "    }\n",
       "\n",
       "    .dataframe thead th {\n",
       "        text-align: left;\n",
       "    }\n",
       "\n",
       "    .dataframe tbody tr th {\n",
       "        vertical-align: top;\n",
       "    }\n",
       "</style>\n",
       "<table border=\"1\" class=\"dataframe\">\n",
       "  <thead>\n",
       "    <tr style=\"text-align: right;\">\n",
       "      <th></th>\n",
       "      <th>tripduration</th>\n",
       "      <th>start station id</th>\n",
       "      <th>start station latitude</th>\n",
       "      <th>start station longitude</th>\n",
       "      <th>end station id</th>\n",
       "      <th>end station latitude</th>\n",
       "      <th>end station longitude</th>\n",
       "      <th>bikeid</th>\n",
       "      <th>birth year</th>\n",
       "      <th>gender</th>\n",
       "    </tr>\n",
       "  </thead>\n",
       "  <tbody>\n",
       "    <tr>\n",
       "      <th>count</th>\n",
       "      <td>49.000000</td>\n",
       "      <td>49.0</td>\n",
       "      <td>49.000000</td>\n",
       "      <td>49.000000</td>\n",
       "      <td>49.000000</td>\n",
       "      <td>49.000000</td>\n",
       "      <td>49.000000</td>\n",
       "      <td>49.000000</td>\n",
       "      <td>48.000000</td>\n",
       "      <td>49.000000</td>\n",
       "    </tr>\n",
       "    <tr>\n",
       "      <th>mean</th>\n",
       "      <td>837.979592</td>\n",
       "      <td>72.0</td>\n",
       "      <td>40.767272</td>\n",
       "      <td>-73.993929</td>\n",
       "      <td>568.285714</td>\n",
       "      <td>40.749500</td>\n",
       "      <td>-73.991735</td>\n",
       "      <td>20268.163265</td>\n",
       "      <td>1974.291667</td>\n",
       "      <td>1.183673</td>\n",
       "    </tr>\n",
       "    <tr>\n",
       "      <th>std</th>\n",
       "      <td>409.055084</td>\n",
       "      <td>0.0</td>\n",
       "      <td>0.000000</td>\n",
       "      <td>0.000000</td>\n",
       "      <td>602.964275</td>\n",
       "      <td>0.014781</td>\n",
       "      <td>0.012731</td>\n",
       "      <td>2768.512908</td>\n",
       "      <td>11.573922</td>\n",
       "      <td>0.441280</td>\n",
       "    </tr>\n",
       "    <tr>\n",
       "      <th>min</th>\n",
       "      <td>265.000000</td>\n",
       "      <td>72.0</td>\n",
       "      <td>40.767272</td>\n",
       "      <td>-73.993929</td>\n",
       "      <td>72.000000</td>\n",
       "      <td>40.701907</td>\n",
       "      <td>-74.013942</td>\n",
       "      <td>15267.000000</td>\n",
       "      <td>1947.000000</td>\n",
       "      <td>0.000000</td>\n",
       "    </tr>\n",
       "    <tr>\n",
       "      <th>25%</th>\n",
       "      <td>569.000000</td>\n",
       "      <td>72.0</td>\n",
       "      <td>40.767272</td>\n",
       "      <td>-73.993929</td>\n",
       "      <td>358.000000</td>\n",
       "      <td>40.741951</td>\n",
       "      <td>-74.002116</td>\n",
       "      <td>17821.000000</td>\n",
       "      <td>1967.000000</td>\n",
       "      <td>1.000000</td>\n",
       "    </tr>\n",
       "    <tr>\n",
       "      <th>50%</th>\n",
       "      <td>727.000000</td>\n",
       "      <td>72.0</td>\n",
       "      <td>40.767272</td>\n",
       "      <td>-73.993929</td>\n",
       "      <td>488.000000</td>\n",
       "      <td>40.752996</td>\n",
       "      <td>-73.990985</td>\n",
       "      <td>20958.000000</td>\n",
       "      <td>1976.500000</td>\n",
       "      <td>1.000000</td>\n",
       "    </tr>\n",
       "    <tr>\n",
       "      <th>75%</th>\n",
       "      <td>1116.000000</td>\n",
       "      <td>72.0</td>\n",
       "      <td>40.767272</td>\n",
       "      <td>-73.993929</td>\n",
       "      <td>519.000000</td>\n",
       "      <td>40.759923</td>\n",
       "      <td>-73.983362</td>\n",
       "      <td>22638.000000</td>\n",
       "      <td>1983.000000</td>\n",
       "      <td>1.000000</td>\n",
       "    </tr>\n",
       "    <tr>\n",
       "      <th>max</th>\n",
       "      <td>1871.000000</td>\n",
       "      <td>72.0</td>\n",
       "      <td>40.767272</td>\n",
       "      <td>-73.993929</td>\n",
       "      <td>3224.000000</td>\n",
       "      <td>40.778627</td>\n",
       "      <td>-73.957721</td>\n",
       "      <td>24273.000000</td>\n",
       "      <td>1993.000000</td>\n",
       "      <td>2.000000</td>\n",
       "    </tr>\n",
       "  </tbody>\n",
       "</table>\n",
       "</div>"
      ],
      "text/plain": [
       "       tripduration  start station id  start station latitude  \\\n",
       "count     49.000000              49.0               49.000000   \n",
       "mean     837.979592              72.0               40.767272   \n",
       "std      409.055084               0.0                0.000000   \n",
       "min      265.000000              72.0               40.767272   \n",
       "25%      569.000000              72.0               40.767272   \n",
       "50%      727.000000              72.0               40.767272   \n",
       "75%     1116.000000              72.0               40.767272   \n",
       "max     1871.000000              72.0               40.767272   \n",
       "\n",
       "       start station longitude  end station id  end station latitude  \\\n",
       "count                49.000000       49.000000             49.000000   \n",
       "mean                -73.993929      568.285714             40.749500   \n",
       "std                   0.000000      602.964275              0.014781   \n",
       "min                 -73.993929       72.000000             40.701907   \n",
       "25%                 -73.993929      358.000000             40.741951   \n",
       "50%                 -73.993929      488.000000             40.752996   \n",
       "75%                 -73.993929      519.000000             40.759923   \n",
       "max                 -73.993929     3224.000000             40.778627   \n",
       "\n",
       "       end station longitude        bikeid   birth year     gender  \n",
       "count              49.000000     49.000000    48.000000  49.000000  \n",
       "mean              -73.991735  20268.163265  1974.291667   1.183673  \n",
       "std                 0.012731   2768.512908    11.573922   0.441280  \n",
       "min               -74.013942  15267.000000  1947.000000   0.000000  \n",
       "25%               -74.002116  17821.000000  1967.000000   1.000000  \n",
       "50%               -73.990985  20958.000000  1976.500000   1.000000  \n",
       "75%               -73.983362  22638.000000  1983.000000   1.000000  \n",
       "max               -73.957721  24273.000000  1993.000000   2.000000  "
      ]
     },
     "execution_count": 10,
     "metadata": {},
     "output_type": "execute_result"
    }
   ],
   "source": [
    "df.describe()"
   ]
  },
  {
   "cell_type": "code",
   "execution_count": 11,
   "metadata": {},
   "outputs": [
    {
     "name": "stdout",
     "output_type": "stream",
     "text": [
      "0 3/1/2016 06:52:42\n",
      "1 3/1/2016 07:05:50\n",
      "2 3/1/2016 07:15:05\n",
      "3 3/1/2016 07:26:04\n",
      "4 3/1/2016 07:31:30\n",
      "5 3/1/2016 07:33:46\n",
      "6 3/1/2016 07:36:31\n",
      "7 3/1/2016 07:38:14\n",
      "8 3/1/2016 07:57:05\n",
      "9 3/1/2016 08:01:30\n",
      "10 3/1/2016 08:02:48\n",
      "11 3/1/2016 08:13:59\n",
      "12 3/1/2016 08:21:44\n",
      "13 3/1/2016 08:31:45\n",
      "14 3/1/2016 08:36:10\n",
      "15 3/1/2016 08:41:07\n",
      "16 3/1/2016 08:41:49\n",
      "17 3/1/2016 08:42:34\n",
      "18 3/1/2016 08:44:44\n",
      "19 3/1/2016 08:47:17\n",
      "20 3/1/2016 08:47:44\n",
      "21 3/1/2016 08:48:46\n",
      "22 3/1/2016 09:15:14\n",
      "23 3/1/2016 09:21:56\n",
      "24 3/1/2016 09:25:33\n",
      "25 3/1/2016 09:28:23\n",
      "26 3/1/2016 09:49:17\n",
      "27 3/1/2016 09:50:27\n",
      "28 3/1/2016 09:55:30\n",
      "29 3/1/2016 10:02:32\n",
      "30 3/1/2016 10:02:39\n",
      "31 3/1/2016 10:06:43\n",
      "32 3/1/2016 10:07:44\n",
      "33 3/1/2016 10:19:44\n",
      "34 3/1/2016 10:39:50\n",
      "35 3/1/2016 11:37:30\n",
      "36 3/1/2016 12:04:36\n",
      "37 3/1/2016 12:28:33\n",
      "38 3/1/2016 13:08:20\n",
      "39 3/1/2016 13:47:33\n",
      "40 3/1/2016 13:49:54\n",
      "41 3/1/2016 13:50:46\n",
      "42 3/1/2016 13:56:59\n",
      "43 3/1/2016 14:08:30\n",
      "44 3/1/2016 14:12:23\n",
      "45 3/1/2016 14:20:49\n",
      "46 3/1/2016 15:29:10\n",
      "47 3/1/2016 15:44:47\n",
      "48 3/1/2016 15:56:02\n"
     ]
    }
   ],
   "source": [
    "for index,row in df.iterrows():\n",
    "    print(index,row['starttime'])"
   ]
  },
  {
   "cell_type": "code",
   "execution_count": null,
   "metadata": {},
   "outputs": [],
   "source": []
  }
 ],
 "metadata": {
  "kernelspec": {
   "display_name": "Python 3",
   "language": "python",
   "name": "python3"
  },
  "language_info": {
   "codemirror_mode": {
    "name": "ipython",
    "version": 3
   },
   "file_extension": ".py",
   "mimetype": "text/x-python",
   "name": "python",
   "nbconvert_exporter": "python",
   "pygments_lexer": "ipython3",
   "version": "3.5.2"
  }
 },
 "nbformat": 4,
 "nbformat_minor": 2
}
